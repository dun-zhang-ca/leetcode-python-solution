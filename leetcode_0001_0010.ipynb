{
  "nbformat": 4,
  "nbformat_minor": 0,
  "metadata": {
    "colab": {
      "name": "leetcode-0001-0010.ipynb",
      "provenance": [],
      "authorship_tag": "ABX9TyNA1AzlNX/AWWkLxMUmCceU",
      "include_colab_link": true
    },
    "kernelspec": {
      "name": "python3",
      "display_name": "Python 3"
    },
    "language_info": {
      "name": "python"
    }
  },
  "cells": [
    {
      "cell_type": "markdown",
      "metadata": {
        "id": "view-in-github",
        "colab_type": "text"
      },
      "source": [
        "<a href=\"https://colab.research.google.com/github/dun-zhang-ca/leetcode-python-solution/blob/main/leetcode_0001_0010.ipynb\" target=\"_parent\"><img src=\"https://colab.research.google.com/assets/colab-badge.svg\" alt=\"Open In Colab\"/></a>"
      ]
    },
    {
      "cell_type": "markdown",
      "metadata": {
        "id": "uFebDPW7uafe"
      },
      "source": [
        "## 1. Two Sum\n",
        "\n",
        "\n",
        "Given an array of integers, return indices of the two numbers such that they add up to a specific target.\n",
        "You may assume that each input would have exactly one solution, and you may not use the same element twice.\n",
        "Example:\n",
        "Given nums = [2, 7, 11, 15], target = 9,\n",
        "\n",
        "Because nums[0] + nums[1] = 2 + 7 = 9,\n",
        "return [0, 1]."
      ]
    },
    {
      "cell_type": "code",
      "metadata": {
        "id": "iqzvH0ccuMGy"
      },
      "source": [
        "class Solution(object):  \n",
        "    def twoSum(self, nums, target):  \n",
        "        \"\"\" \n",
        "        :type nums: List[int] \n",
        "        :type target: int \n",
        "        :rtype: List[int] \n",
        "        \"\"\"  \n",
        "          \n",
        "        for i in range(len(nums)-1):  \n",
        "            left = target - nums[i]  \n",
        "            leftl = nums[i+1:]  \n",
        "            if(left in leftl):  \n",
        "                return [i, leftl.index(left)+i+1]  \n",
        "            else:  \n",
        "                continue  "
      ],
      "execution_count": null,
      "outputs": []
    },
    {
      "cell_type": "code",
      "metadata": {
        "id": "gEUo4N5tusyn"
      },
      "source": [
        "class Solution(object):  \n",
        "    def twoSum(self, nums, target):  \n",
        "        \"\"\" \n",
        "        :type nums: List[int] \n",
        "        :type target: int \n",
        "        :rtype: List[int] \n",
        "        \"\"\"  \n",
        "          \n",
        "        hash_t = {}  \n",
        "        for i in range(len(nums)):  \n",
        "            left = target - nums[i]  \n",
        "            if(left in hash_t.keys()):  \n",
        "                return [hash_t[left],i]  \n",
        "            else:  \n",
        "                hash_t[nums[i]] = i  "
      ],
      "execution_count": null,
      "outputs": []
    },
    {
      "cell_type": "markdown",
      "metadata": {
        "id": "8aGqAQFbuxzL"
      },
      "source": [
        "Time: O(n)\n",
        "Space: O(n)"
      ]
    }
  ]
}